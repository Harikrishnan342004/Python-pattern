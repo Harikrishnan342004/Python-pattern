{
 "cells": [
  {
   "cell_type": "code",
   "execution_count": 4,
   "id": "f1537bda-78e5-4da3-958c-ec53ddb8a752",
   "metadata": {},
   "outputs": [
    {
     "name": "stdout",
     "output_type": "stream",
     "text": [
      "1 \n",
      "2 2 \n",
      "3 3 3 \n",
      "4 4 4 4 \n",
      "5 5 5 5 5 \n",
      "6 6 6 6 6 6 \n",
      "None\n"
     ]
    }
   ],
   "source": [
    "def pattern(Input):\n",
    "    p =1\n",
    "    for row in range(Input):\n",
    "        for col in range(row+1):\n",
    "            print(p, end=\" \")\n",
    "        print()\n",
    "        p += 1\n",
    "        \n",
    "Input = 6\n",
    "output = pattern(Input)\n",
    "print(output)"
   ]
  },
  {
   "cell_type": "code",
   "execution_count": 1,
   "id": "99909831-5d7d-46d4-8c42-df54da756043",
   "metadata": {},
   "outputs": [
    {
     "name": "stdout",
     "output_type": "stream",
     "text": [
      "1 1 1 1 1 \n",
      "2 2 2 2 \n",
      "3 3 3 \n",
      "4 4 \n",
      "5 \n",
      "None\n"
     ]
    }
   ],
   "source": [
    "def pattern(Input):\n",
    "    p = 1\n",
    "    for row in range(Input):\n",
    "        for j in range(row , Input):\n",
    "            print(p, end = \" \")\n",
    "        print()\n",
    "        p += 1\n",
    "Input = 5\n",
    "output = pattern(Input)\n",
    "print(output)"
   ]
  },
  {
   "cell_type": "code",
   "execution_count": 1,
   "id": "f30bc1fa-99f4-491f-9b10-eafd56811d47",
   "metadata": {},
   "outputs": [
    {
     "name": "stdout",
     "output_type": "stream",
     "text": [
      "5 5 5 5 \n",
      "4 4 4 \n",
      "3 3 \n",
      "2 \n",
      "None\n"
     ]
    }
   ],
   "source": [
    "def pattern(Input):\n",
    "    p = 5\n",
    "    for row in range(Input):\n",
    "        for j in range(row , Input):\n",
    "            print(p, end = \" \")\n",
    "        print()\n",
    "        p -= 12\n",
    "Input = 4\n",
    "output = pattern(Input)\n",
    "print(output)"
   ]
  },
  {
   "cell_type": "code",
   "execution_count": null,
   "id": "6f5c46f4-f757-47b5-ad6d-66ef282fd1a3",
   "metadata": {},
   "outputs": [],
   "source": []
  }
 ],
 "metadata": {
  "kernelspec": {
   "display_name": "Python 3 (ipykernel)",
   "language": "python",
   "name": "python3"
  },
  "language_info": {
   "codemirror_mode": {
    "name": "ipython",
    "version": 3
   },
   "file_extension": ".py",
   "mimetype": "text/x-python",
   "name": "python",
   "nbconvert_exporter": "python",
   "pygments_lexer": "ipython3",
   "version": "3.10.2"
  }
 },
 "nbformat": 4,
 "nbformat_minor": 5
}
