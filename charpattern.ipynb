{
 "cells": [
  {
   "cell_type": "code",
   "execution_count": 3,
   "id": "4f92a1ea-5ceb-4dd8-a0b4-b5ab89f30bf0",
   "metadata": {},
   "outputs": [
    {
     "name": "stdout",
     "output_type": "stream",
     "text": [
      "A \n",
      "B B \n",
      "C C C \n",
      "D D D D \n",
      "E E E E E \n",
      "None\n"
     ]
    }
   ],
   "source": [
    "#Char Pattern\n",
    "def pattern(Input):\n",
    "    p = 65\n",
    "    for row in range(Input):\n",
    "        for col in range(row+1):\n",
    "            print(chr(p), end = \" \")\n",
    "        print()\n",
    "        p += 1\n",
    "\n",
    "Input = 5\n",
    "output = pattern(Input)\n",
    "print(output)"
   ]
  },
  {
   "cell_type": "code",
   "execution_count": 1,
   "id": "83786ae7-572a-41a4-83e8-ce1760752aa7",
   "metadata": {},
   "outputs": [
    {
     "name": "stdout",
     "output_type": "stream",
     "text": [
      "A A A A A \n",
      "B B B B \n",
      "C C C \n",
      "D D \n",
      "E \n",
      "None\n"
     ]
    }
   ],
   "source": [
    "def pattern(Input):\n",
    "    p = 65\n",
    "    for row in range(Input):\n",
    "        for col in range(row, Input):\n",
    "            print(chr(p), end=\" \")\n",
    "        print()\n",
    "        p+=1\n",
    "Input = 4\n",
    "output = pattern(Input)\n",
    "print(output)"
   ]
  }
 ],
 "metadata": {
  "kernelspec": {
   "display_name": "Python 3 (ipykernel)",
   "language": "python",
   "name": "python3"
  },
  "language_info": {
   "codemirror_mode": {
    "name": "ipython",
    "version": 3
   },
   "file_extension": ".py",
   "mimetype": "text/x-python",
   "name": "python",
   "nbconvert_exporter": "python",
   "pygments_lexer": "ipython3",
   "version": "3.10.2"
  }
 },
 "nbformat": 4,
 "nbformat_minor": 5
}
