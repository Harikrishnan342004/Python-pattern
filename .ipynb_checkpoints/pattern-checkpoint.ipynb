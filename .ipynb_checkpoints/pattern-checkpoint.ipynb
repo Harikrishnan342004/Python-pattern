{
 "cells": [
  {
   "cell_type": "code",
   "execution_count": 1,
   "id": "85ecf5b7-741b-4f8c-80ec-7a3cefdfb394",
   "metadata": {},
   "outputs": [
    {
     "name": "stdout",
     "output_type": "stream",
     "text": [
      "AAAA\n",
      "BBB\n",
      "CC\n",
      "D\n"
     ]
    }
   ],
   "source": [
    "def generate_sequence(n):\n",
    "    for i in range(n):\n",
    "        character = chr(ord('A') + i)\n",
    "        repetition = (n - i)\n",
    "        line = character * repetition\n",
    "        print(line)\n",
    "\n",
    "# Example usage with input 4\n",
    "generate_sequence(4)\n"
   ]
  },
  {
   "cell_type": "code",
   "execution_count": 2,
   "id": "9e37ac3c-f3ca-477c-9c5e-7502e7dc1bdd",
   "metadata": {},
   "outputs": [
    {
     "name": "stdout",
     "output_type": "stream",
     "text": [
      "^ . ^ . ^ . ^ . ^ . \n",
      "^ . ^ . ^ . ^ . ^ . \n",
      "^ . ^ . ^ . ^ . ^ . \n",
      "^ . ^ . ^ . ^ . ^ . \n",
      "^ . ^ . ^ . ^ . ^ . \n",
      "None\n"
     ]
    }
   ],
   "source": [
    "def pattern(Input):\n",
    "    for i in range(Input):\n",
    "        for j in range(Input):\n",
    "            print(\"^ .\", end = ' ')\n",
    "        print()\n",
    "\n",
    "\n",
    "Input = 5\n",
    "Output = pattern(Input)\n",
    "print(Output)"
   ]
  },
  {
   "cell_type": "code",
   "execution_count": 3,
   "id": "015394e2-ce45-4a20-9698-61f2a924f181",
   "metadata": {},
   "outputs": [
    {
     "ename": "ValueError",
     "evalue": "invalid literal for int() with base 10: ''",
     "output_type": "error",
     "traceback": [
      "\u001b[1;31m---------------------------------------------------------------------------\u001b[0m",
      "\u001b[1;31mValueError\u001b[0m                                Traceback (most recent call last)",
      "Input \u001b[1;32mIn [3]\u001b[0m, in \u001b[0;36m<cell line: 9>\u001b[1;34m()\u001b[0m\n\u001b[0;32m      6\u001b[0m             \u001b[38;5;28mprint\u001b[39m(\u001b[38;5;124m\"\u001b[39m\u001b[38;5;124m*\u001b[39m\u001b[38;5;124m\"\u001b[39m , end \u001b[38;5;241m=\u001b[39m \u001b[38;5;124m\"\u001b[39m\u001b[38;5;124m\"\u001b[39m)\n\u001b[0;32m      7\u001b[0m         \u001b[38;5;28mprint\u001b[39m()\n\u001b[1;32m----> 9\u001b[0m Input \u001b[38;5;241m=\u001b[39m \u001b[38;5;28;43mint\u001b[39;49m\u001b[43m(\u001b[49m\u001b[38;5;28;43minput\u001b[39;49m\u001b[43m(\u001b[49m\u001b[38;5;124;43m\"\u001b[39;49m\u001b[38;5;124;43mEnter the Value of Input =\u001b[39;49m\u001b[38;5;124;43m\"\u001b[39;49m\u001b[43m)\u001b[49m\u001b[43m)\u001b[49m\n\u001b[0;32m     10\u001b[0m Output \u001b[38;5;241m=\u001b[39m pattern(Input)\n\u001b[0;32m     11\u001b[0m \u001b[38;5;28mprint\u001b[39m(Output)\n",
      "\u001b[1;31mValueError\u001b[0m: invalid literal for int() with base 10: ''"
     ]
    }
   ],
   "source": [
    "#Increasing Triangle Pattern\n",
    "\n",
    "def pattern(Input):\n",
    "    for row in range(Input): #i denotes row\n",
    "        for col in range(row+1): #j denotes column\n",
    "            print(\"*\" , end = \"\")\n",
    "        print()\n",
    "            \n",
    "Input = int(input(\"Enter the Value of Input =\"))\n",
    "Output = pattern(Input)\n",
    "print(Output)"
   ]
  },
  {
   "cell_type": "code",
   "execution_count": null,
   "id": "158f55ac-a73f-4943-bfb4-1c2eac172b11",
   "metadata": {},
   "outputs": [
    {
     "name": "stdout",
     "output_type": "stream",
     "text": [
      "Enter the value of Input= 5\n"
     ]
    },
    {
     "name": "stdout",
     "output_type": "stream",
     "text": [
      "*****\n",
      "****\n",
      "***\n",
      "**\n",
      "*\n",
      "None\n"
     ]
    }
   ],
   "source": [
    "#Decreasing Triangle Pattern\n",
    "def pattern(Input):\n",
    "    for row in range(Input):\n",
    "        for col in range(row , Input):\n",
    "            print(\"*\",end=\"\")\n",
    "        print()\n",
    "\n",
    "\n",
    "Input = int(input(\"Enter the value of Input=\"))\n",
    "Output = pattern(Input)\n",
    "print(Output)"
   ]
  },
  {
   "cell_type": "code",
   "execution_count": null,
   "id": "fc98a156-3f27-4921-a510-e35938f515b5",
   "metadata": {},
   "outputs": [
    {
     "name": "stdout",
     "output_type": "stream",
     "text": [
      "*****\n",
      "*****\n",
      "*****\n",
      "*****\n",
      "*****\n",
      "None\n"
     ]
    }
   ],
   "source": [
    "def pattern(Input):\n",
    "    for row in range(Input):\n",
    "        for col in range(Input):\n",
    "            print(\"*\" , end = \"\")\n",
    "        print()\n",
    "Input = 5\n",
    "Output = pattern(Input)\n",
    "print(Output)"
   ]
  },
  {
   "cell_type": "code",
   "execution_count": null,
   "id": "e3e7d4bf-5f9d-4cc7-a804-c00dbd1d5246",
   "metadata": {},
   "outputs": [
    {
     "name": "stdout",
     "output_type": "stream",
     "text": [
      "          # \n",
      "        # # \n",
      "      # # # \n",
      "    # # # # \n",
      "  # # # # # \n",
      "None\n"
     ]
    }
   ],
   "source": [
    "def pattern(Input):\n",
    "    for row in range(Input):\n",
    "        for col in range(row, Input):\n",
    "            print(\" \" , end =\" \")\n",
    "        for col in range(row + 1):\n",
    "             print(\"#\" , end =\" \")\n",
    "        print()\n",
    "        \n",
    "Input = 5\n",
    "Output = pattern(Input)\n",
    "print(Output)"
   ]
  },
  {
   "cell_type": "code",
   "execution_count": null,
   "id": "6eea0b79-fed8-4b98-9361-a3ea50782a9b",
   "metadata": {},
   "outputs": [
    {
     "name": "stdout",
     "output_type": "stream",
     "text": [
      "  * * * * * \n",
      "    * * * * \n",
      "      * * * \n",
      "        * * \n",
      "          * \n",
      "None\n"
     ]
    }
   ],
   "source": [
    "def pattern(Input):\n",
    "    for row in range(Input):\n",
    "        for col in range(row+1):\n",
    "            print(\" \", end = \" \")\n",
    "        for col in range(row, Input):\n",
    "            print(\"*\", end= \" \")\n",
    "        print()\n",
    "Input = 5\n",
    "Output = pattern(Input)\n",
    "print(Output)"
   ]
  },
  {
   "cell_type": "code",
   "execution_count": null,
   "id": "65b3d5a6-c793-403a-af14-a2f17a77dd57",
   "metadata": {},
   "outputs": [
    {
     "name": "stdout",
     "output_type": "stream",
     "text": [
      "          * \n",
      "        * * * \n",
      "      * * * * * \n",
      "    * * * * * * * \n",
      "  * * * * * * * * * \n",
      "None\n"
     ]
    }
   ],
   "source": [
    "#Hill Pattern\n",
    "def pattern(Input): \n",
    "    for row in range(Input):\n",
    "        for col in range(row, Input):\n",
    "            print(\" \", end= \" \")\n",
    "        for col in range(row):\n",
    "            print(\"*\" , end= \" \")\n",
    "        for col in range(row +1):\n",
    "            print(\"*\", end = \" \")\n",
    "        print()\n",
    "    \n",
    "Input = 5\n",
    "Output = pattern(Input)\n",
    "print(Output)"
   ]
  },
  {
   "cell_type": "code",
   "execution_count": null,
   "id": "d2210884-37a9-4ceb-b314-e988c716d814",
   "metadata": {},
   "outputs": [
    {
     "name": "stdout",
     "output_type": "stream",
     "text": [
      "  ^ ^ ^ ^ ^ ^ ^ ^ ^ \n",
      "    ^ ^ ^ ^ ^ ^ ^ \n",
      "      ^ ^ ^ ^ ^ \n",
      "        ^ ^ ^ \n",
      "          ^ \n",
      "None\n"
     ]
    }
   ],
   "source": [
    "#Revese Hill pattern\n",
    "def pattern(Input):\n",
    "    for row in range(Input):\n",
    "        for col in range(row+1):\n",
    "            print( \" \" , end= \" \")\n",
    "        for col in range(row , Input-1):\n",
    "            print(\"^\", end = \" \")\n",
    "        for col in range(row , Input):\n",
    "            print(\"^\", end = \" \")\n",
    "        \n",
    "        print()\n",
    "Input = 5\n",
    "Output = pattern(Input)\n",
    "print(Output) "
   ]
  },
  {
   "cell_type": "code",
   "execution_count": null,
   "id": "8480b0a2-a979-4d95-aae6-deeaa67d2cc5",
   "metadata": {},
   "outputs": [
    {
     "name": "stdout",
     "output_type": "stream",
     "text": [
      "          * \n",
      "        * * * \n",
      "      * * * * * \n",
      "    * * * * * * * \n",
      "  * * * * * * * * * \n",
      "    * * * * * * * \n",
      "      * * * * * \n",
      "        * * * \n",
      "          * \n",
      "None\n"
     ]
    }
   ],
   "source": [
    "def pattern(Input):\n",
    "    for row in range(Input-1):\n",
    "        for col in range(row , Input):\n",
    "            print(\" \" , end= \" \")\n",
    "        for col in range(row):\n",
    "            print(\"*\", end= \" \")\n",
    "        for col in range(row +1):\n",
    "            print(\"*\", end = \" \")\n",
    "        print()\n",
    "    for row in range(Input):   \n",
    "        for col in range(row+1):\n",
    "            print( \" \" , end= \" \")\n",
    "        for col in range(row , Input-1):\n",
    "            print(\"*\", end = \" \")\n",
    "        for col in range(row , Input):\n",
    "            print(\"*\", end = \" \")\n",
    "        \n",
    "        print()\n",
    "    \n",
    "Input = 5\n",
    "Output = pattern(Input)\n",
    "print(Output)"
   ]
  },
  {
   "cell_type": "code",
   "execution_count": null,
   "id": "75836320-a7fa-4d6b-b43b-c32e33c6a46c",
   "metadata": {},
   "outputs": [
    {
     "name": "stdout",
     "output_type": "stream",
     "text": [
      "  * * * * * * * * * \n",
      "    * * * * * * * \n",
      "      * * * * * \n",
      "        * * * \n",
      "          * \n",
      "        * * * \n",
      "      * * * * * \n",
      "    * * * * * * * \n",
      "  * * * * * * * * * \n",
      "None\n"
     ]
    }
   ],
   "source": [
    "def pattern(Input):\n",
    "    for row in range(Input-1):\n",
    "        for col in range(row+1):\n",
    "            print(\" \", end =\" \")\n",
    "        for col in range(row,Input-1):\n",
    "            print(\"*\", end =\" \")\n",
    "        for col in range(row , Input):\n",
    "            print(\"*\" , end=\" \")\n",
    "        print()\n",
    "    for row in range(Input):\n",
    "        for col in range(row , Input):\n",
    "            print(\" \", end = \" \")\n",
    "        for col in range(row):\n",
    "            print(\"*\" , end = \" \")\n",
    "        for col in range(row+1):\n",
    "            print(\"*\" , end = \" \")\n",
    "        print()\n",
    "\n",
    "Input = 5\n",
    "Output = pattern(Input)\n",
    "print(Output)"
   ]
  },
  {
   "cell_type": "code",
   "execution_count": null,
   "id": "f9ec1565-752a-4d02-a0a8-265607b29eaa",
   "metadata": {},
   "outputs": [
    {
     "name": "stdout",
     "output_type": "stream",
     "text": [
      "* \n",
      "* * \n",
      "* * * \n",
      "* * * * \n",
      "* * * * * \n",
      "* * * * \n",
      "* * * \n",
      "* * \n",
      "* \n",
      "None\n"
     ]
    }
   ],
   "source": [
    "def pattern(Input):\n",
    "    for row in range(Input-1):\n",
    "        for col in range(row + 1):\n",
    "            print(\"*\", end = \" \")\n",
    "        print()\n",
    "    for row in range(Input):\n",
    "        for col in range(row, Input):\n",
    "            print(\"*\", end=\" \")\n",
    "        print()\n",
    "        \n",
    "Input = 5\n",
    "Output = pattern(Input)\n",
    "print(Output)"
   ]
  },
  {
   "cell_type": "code",
   "execution_count": null,
   "id": "7e786fe9-40b6-43b7-ab5b-edad941c10a8",
   "metadata": {},
   "outputs": [],
   "source": [
    "def pattern(input):\n",
    "    for row in range(0,input):\n",
    "        for col in range(row+1):\n",
    "            print(\"*\", end=\" \")\n",
    "    print()\n",
    "\n",
    "input = 5\n",
    "output = pattern(input)\n",
    "print(output)"
   ]
  }
 ],
 "metadata": {
  "kernelspec": {
   "display_name": "Python 3 (ipykernel)",
   "language": "python",
   "name": "python3"
  },
  "language_info": {
   "codemirror_mode": {
    "name": "ipython",
    "version": 3
   },
   "file_extension": ".py",
   "mimetype": "text/x-python",
   "name": "python",
   "nbconvert_exporter": "python",
   "pygments_lexer": "ipython3",
   "version": "3.10.2"
  }
 },
 "nbformat": 4,
 "nbformat_minor": 5
}
