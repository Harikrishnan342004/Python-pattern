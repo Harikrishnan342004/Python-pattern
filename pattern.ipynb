{
 "cells": [
  {
   "cell_type": "code",
   "execution_count": 1,
   "id": "85ecf5b7-741b-4f8c-80ec-7a3cefdfb394",
   "metadata": {},
   "outputs": [
    {
     "name": "stdout",
     "output_type": "stream",
     "text": [
      "AAAA\n",
      "BBB\n",
      "CC\n",
      "D\n"
     ]
    }
   ],
   "source": [
    "def generate_sequence(n):\n",
    "    for i in range(n):\n",
    "        character = chr(ord('A') + i)\n",
    "        repetition = (n - i)\n",
    "        line = character * repetition\n",
    "        print(line)\n",
    "\n",
    "# Example usage with input 4\n",
    "generate_sequence(4)\n"
   ]
  },
  {
   "cell_type": "code",
   "execution_count": 6,
   "id": "9e37ac3c-f3ca-477c-9c5e-7502e7dc1bdd",
   "metadata": {},
   "outputs": [
    {
     "name": "stdout",
     "output_type": "stream",
     "text": [
      "^ . ^ . ^ . ^ . ^ . \n",
      "^ . ^ . ^ . ^ . ^ . \n",
      "^ . ^ . ^ . ^ . ^ . \n",
      "^ . ^ . ^ . ^ . ^ . \n",
      "^ . ^ . ^ . ^ . ^ . \n",
      "None\n"
     ]
    }
   ],
   "source": [
    "def pattern(Input):\n",
    "    for i in range(Input):\n",
    "        for j in range(Input):\n",
    "            print(\"^ .\", end = ' ')\n",
    "        print()\n",
    "\n",
    "\n",
    "Input = 5\n",
    "Output = pattern(Input)\n",
    "print(Output)"
   ]
  },
  {
   "cell_type": "code",
   "execution_count": 18,
   "id": "015394e2-ce45-4a20-9698-61f2a924f181",
   "metadata": {},
   "outputs": [
    {
     "name": "stdin",
     "output_type": "stream",
     "text": [
      "Enter the Value of Input = 5\n"
     ]
    },
    {
     "name": "stdout",
     "output_type": "stream",
     "text": [
      "*\n",
      "**\n",
      "***\n",
      "****\n",
      "*****\n",
      "None\n"
     ]
    }
   ],
   "source": [
    "#Increasing Triangle Pattern\n",
    "\n",
    "def pattern(Input):\n",
    "    for row in range(Input): #i denotes row\n",
    "        for col in range(row+1): #j denotes column\n",
    "            print(\"*\" , end = \"\")\n",
    "        print()\n",
    "            \n",
    "Input = int(input(\"Enter the Value of Input =\"))\n",
    "Output = pattern(Input)\n",
    "print(Output)"
   ]
  },
  {
   "cell_type": "code",
   "execution_count": 19,
   "id": "158f55ac-a73f-4943-bfb4-1c2eac172b11",
   "metadata": {},
   "outputs": [
    {
     "name": "stdin",
     "output_type": "stream",
     "text": [
      "Enter the value of Input= 5\n"
     ]
    },
    {
     "name": "stdout",
     "output_type": "stream",
     "text": [
      "*****\n",
      "****\n",
      "***\n",
      "**\n",
      "*\n",
      "None\n"
     ]
    }
   ],
   "source": [
    "#Decreasing Triangle Pattern\n",
    "def pattern(Input):\n",
    "    for row in range(Input):\n",
    "        for col in range(row , Input):\n",
    "            print(\"*\",end=\"\")\n",
    "        print()\n",
    "\n",
    "\n",
    "Input = int(input(\"Enter the value of Input=\"))\n",
    "Output = pattern(Input)\n",
    "print(Output)"
   ]
  },
  {
   "cell_type": "code",
   "execution_count": 20,
   "id": "fc98a156-3f27-4921-a510-e35938f515b5",
   "metadata": {},
   "outputs": [
    {
     "name": "stdout",
     "output_type": "stream",
     "text": [
      "*****\n",
      "*****\n",
      "*****\n",
      "*****\n",
      "*****\n",
      "None\n"
     ]
    }
   ],
   "source": [
    "def pattern(Input):\n",
    "    for row in range(Input):\n",
    "        for col in range(Input):\n",
    "            print(\"*\" , end = \"\")\n",
    "        print()\n",
    "Input = 5\n",
    "Output = pattern(Input)\n",
    "print(Output)"
   ]
  },
  {
   "cell_type": "code",
   "execution_count": 31,
   "id": "e3e7d4bf-5f9d-4cc7-a804-c00dbd1d5246",
   "metadata": {},
   "outputs": [
    {
     "name": "stdout",
     "output_type": "stream",
     "text": [
      "          # \n",
      "        # # \n",
      "      # # # \n",
      "    # # # # \n",
      "  # # # # # \n",
      "None\n"
     ]
    }
   ],
   "source": [
    "def pattern(Input):\n",
    "    for row in range(Input):\n",
    "        for col in range(row, Input):\n",
    "            print(\" \" , end =\" \")\n",
    "        for col in range(row + 1):\n",
    "             print(\"#\" , end =\" \")\n",
    "        print()\n",
    "        \n",
    "Input = 5\n",
    "Output = pattern(Input)\n",
    "print(Output)"
   ]
  },
  {
   "cell_type": "code",
   "execution_count": 51,
   "id": "6eea0b79-fed8-4b98-9361-a3ea50782a9b",
   "metadata": {},
   "outputs": [
    {
     "name": "stdout",
     "output_type": "stream",
     "text": [
      "  * * * * * \n",
      "    * * * * \n",
      "      * * * \n",
      "        * * \n",
      "          * \n",
      "None\n"
     ]
    }
   ],
   "source": [
    "def pattern(Input):\n",
    "    for row in range(Input):\n",
    "        for col in range(row+1):\n",
    "            print(\" \", end = \" \")\n",
    "        for col in range(row, Input):\n",
    "            print(\"*\", end= \" \")\n",
    "        print()\n",
    "Input = 5\n",
    "Output = pattern(Input)\n",
    "print(Output)"
   ]
  },
  {
   "cell_type": "code",
   "execution_count": 15,
   "id": "65b3d5a6-c793-403a-af14-a2f17a77dd57",
   "metadata": {},
   "outputs": [
    {
     "name": "stdout",
     "output_type": "stream",
     "text": [
      "          * \n",
      "        * * * \n",
      "      * * * * * \n",
      "    * * * * * * * \n",
      "  * * * * * * * * * \n",
      "None\n"
     ]
    }
   ],
   "source": [
    "#Hill Pattern\n",
    "def pattern(Input): \n",
    "    for row in range(Input):\n",
    "        for col in range(row, Input):\n",
    "            print(\" \", end= \" \")\n",
    "        for col in range(row):\n",
    "            print(\"*\" , end= \" \")\n",
    "        for col in range(row +1):\n",
    "            print(\"*\", end = \" \")\n",
    "        print()\n",
    "    \n",
    "Input = 5\n",
    "Output = pattern(Input)\n",
    "print(Output)"
   ]
  },
  {
   "cell_type": "code",
   "execution_count": 23,
   "id": "d2210884-37a9-4ceb-b314-e988c716d814",
   "metadata": {},
   "outputs": [
    {
     "name": "stdout",
     "output_type": "stream",
     "text": [
      "  ^ ^ ^ ^ ^ ^ ^ ^ ^ \n",
      "    ^ ^ ^ ^ ^ ^ ^ \n",
      "      ^ ^ ^ ^ ^ \n",
      "        ^ ^ ^ \n",
      "          ^ \n",
      "None\n"
     ]
    }
   ],
   "source": [
    "#Revese Hill pattern\n",
    "def pattern(Input):\n",
    "    for row in range(Input):\n",
    "        for col in range(row+1):\n",
    "            print( \" \" , end= \" \")\n",
    "        for col in range(row , Input-1):\n",
    "            print(\"^\", end = \" \")\n",
    "        for col in range(row , Input):\n",
    "            print(\"^\", end = \" \")\n",
    "        \n",
    "        print()\n",
    "Input = 5\n",
    "Output = pattern(Input)\n",
    "print(Output) "
   ]
  },
  {
   "cell_type": "code",
   "execution_count": 38,
   "id": "8480b0a2-a979-4d95-aae6-deeaa67d2cc5",
   "metadata": {},
   "outputs": [
    {
     "name": "stdout",
     "output_type": "stream",
     "text": [
      "          * \n",
      "        * * * \n",
      "      * * * * * \n",
      "    * * * * * * * \n",
      "  * * * * * * * * * \n",
      "    * * * * * * * \n",
      "      * * * * * \n",
      "        * * * \n",
      "          * \n",
      "None\n"
     ]
    }
   ],
   "source": [
    "def pattern(Input):\n",
    "    for row in range(Input-1):\n",
    "        for col in range(row , Input):\n",
    "            print(\" \" , end= \" \")\n",
    "        for col in range(row):\n",
    "            print(\"*\", end= \" \")\n",
    "        for col in range(row +1):\n",
    "            print(\"*\", end = \" \")\n",
    "        print()\n",
    "    for row in range(Input):   \n",
    "        for col in range(row+1):\n",
    "            print( \" \" , end= \" \")\n",
    "        for col in range(row , Input-1):\n",
    "            print(\"*\", end = \" \")\n",
    "        for col in range(row , Input):\n",
    "            print(\"*\", end = \" \")\n",
    "        \n",
    "        print()\n",
    "    \n",
    "Input = 5\n",
    "Output = pattern(Input)\n",
    "print(Output)"
   ]
  },
  {
   "cell_type": "code",
   "execution_count": 19,
   "id": "75836320-a7fa-4d6b-b43b-c32e33c6a46c",
   "metadata": {},
   "outputs": [
    {
     "name": "stdout",
     "output_type": "stream",
     "text": [
      "  * * * * * * * * * \n",
      "    * * * * * * * \n",
      "      * * * * * \n",
      "        * * * \n",
      "          * \n",
      "        * * * \n",
      "      * * * * * \n",
      "    * * * * * * * \n",
      "  * * * * * * * * * \n",
      "None\n"
     ]
    }
   ],
   "source": [
    "def pattern(Input):\n",
    "    for row in range(Input-1):\n",
    "        for col in range(row+1):\n",
    "            print(\" \", end =\" \")\n",
    "        for col in range(row,Input-1):\n",
    "            print(\"*\", end =\" \")\n",
    "        for col in range(row , Input):\n",
    "            print(\"*\" , end=\" \")\n",
    "        print()\n",
    "    for row in range(Input):\n",
    "        for col in range(row , Input):\n",
    "            print(\" \", end = \" \")\n",
    "        for col in range(row):\n",
    "            print(\"*\" , end = \" \")\n",
    "        for col in range(row+1):\n",
    "            print(\"*\" , end = \" \")\n",
    "        print()\n",
    "\n",
    "Input = 5\n",
    "Output = pattern(Input)\n",
    "print(Output)"
   ]
  },
  {
   "cell_type": "code",
   "execution_count": 23,
   "id": "f9ec1565-752a-4d02-a0a8-265607b29eaa",
   "metadata": {},
   "outputs": [
    {
     "name": "stdout",
     "output_type": "stream",
     "text": [
      "* \n",
      "* * \n",
      "* * * \n",
      "* * * * \n",
      "* * * * * \n",
      "* * * * \n",
      "* * * \n",
      "* * \n",
      "* \n",
      "None\n"
     ]
    }
   ],
   "source": [
    "def pattern(Input):\n",
    "    for row in range(Input-1):\n",
    "        for col in range(row + 1):\n",
    "            print(\"*\", end = \" \")\n",
    "        print()\n",
    "    for row in range(Input):\n",
    "        for col in range(row, Input):\n",
    "            print(\"*\", end=\" \")\n",
    "        print()\n",
    "        \n",
    "Input = 5\n",
    "Output = pattern(Input)\n",
    "print(Output)"
   ]
  },
  {
   "cell_type": "code",
   "execution_count": null,
   "id": "7e786fe9-40b6-43b7-ab5b-edad941c10a8",
   "metadata": {},
   "outputs": [],
   "source": []
  }
 ],
 "metadata": {
  "kernelspec": {
   "display_name": "Python 3 (ipykernel)",
   "language": "python",
   "name": "python3"
  },
  "language_info": {
   "codemirror_mode": {
    "name": "ipython",
    "version": 3
   },
   "file_extension": ".py",
   "mimetype": "text/x-python",
   "name": "python",
   "nbconvert_exporter": "python",
   "pygments_lexer": "ipython3",
   "version": "3.10.2"
  }
 },
 "nbformat": 4,
 "nbformat_minor": 5
}
